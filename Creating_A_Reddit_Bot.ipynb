{
  "nbformat": 4,
  "nbformat_minor": 0,
  "metadata": {
    "colab": {
      "provenance": [],
      "authorship_tag": "ABX9TyOISOrajLtbbesme69BAIP/"
    },
    "kernelspec": {
      "name": "python3",
      "display_name": "Python 3"
    },
    "language_info": {
      "name": "python"
    }
  },
  "cells": [
    {
      "cell_type": "markdown",
      "source": [
        "# Praw"
      ],
      "metadata": {
        "id": "WZvVDNZKtlLn"
      }
    },
    {
      "cell_type": "markdown",
      "source": [
        "\n",
        "This bot is a computer program that can perform tasks on Reddit.\n",
        "\n",
        "- It will be able to read posts, make comments, and post new things on reddit\n",
        "- It can keep track of new post on certain topic and send us an email.\n",
        "- It can initiate a conversation when someone joins the Reddit group."
      ],
      "metadata": {
        "id": "LLL4W6X-tsFC"
      }
    },
    {
      "cell_type": "markdown",
      "source": [
        "#### We can create a Reddit bot using a library called praw.\n",
        "- It stands for \"python reddit API wrapper\"\n",
        "\n",
        "# https://praw.readthedocs.io/en/stable/index.html"
      ],
      "metadata": {
        "id": "0kJk0-TttxcW"
      }
    },
    {
      "cell_type": "code",
      "execution_count": null,
      "metadata": {
        "id": "Avc-RxUo3KGd",
        "colab": {
          "base_uri": "https://localhost:8080/"
        },
        "outputId": "bac7b6bc-cb96-4773-88a1-5bfef50d5a3e"
      },
      "outputs": [
        {
          "output_type": "stream",
          "name": "stdout",
          "text": [
            "Collecting praw\n",
            "  Downloading praw-7.7.1-py3-none-any.whl (191 kB)\n",
            "\u001b[?25l     \u001b[90m━━━━━━━━━━━━━━━━━━━━━━━━━━━━━━━━━━━━━━━━\u001b[0m \u001b[32m0.0/191.0 kB\u001b[0m \u001b[31m?\u001b[0m eta \u001b[36m-:--:--\u001b[0m\r\u001b[2K     \u001b[91m━━━━━━━━━━━━━━━━━━━━━━━━━━━━━━━━━━━━\u001b[0m\u001b[90m╺\u001b[0m\u001b[90m━━━\u001b[0m \u001b[32m174.1/191.0 kB\u001b[0m \u001b[31m5.0 MB/s\u001b[0m eta \u001b[36m0:00:01\u001b[0m\r\u001b[2K     \u001b[90m━━━━━━━━━━━━━━━━━━━━━━━━━━━━━━━━━━━━━━━━\u001b[0m \u001b[32m191.0/191.0 kB\u001b[0m \u001b[31m4.0 MB/s\u001b[0m eta \u001b[36m0:00:00\u001b[0m\n",
            "\u001b[?25hCollecting prawcore<3,>=2.1 (from praw)\n",
            "  Downloading prawcore-2.4.0-py3-none-any.whl (17 kB)\n",
            "Collecting update-checker>=0.18 (from praw)\n",
            "  Downloading update_checker-0.18.0-py3-none-any.whl (7.0 kB)\n",
            "Requirement already satisfied: websocket-client>=0.54.0 in /usr/local/lib/python3.10/dist-packages (from praw) (1.7.0)\n",
            "Requirement already satisfied: requests<3.0,>=2.6.0 in /usr/local/lib/python3.10/dist-packages (from prawcore<3,>=2.1->praw) (2.31.0)\n",
            "Requirement already satisfied: charset-normalizer<4,>=2 in /usr/local/lib/python3.10/dist-packages (from requests<3.0,>=2.6.0->prawcore<3,>=2.1->praw) (3.3.2)\n",
            "Requirement already satisfied: idna<4,>=2.5 in /usr/local/lib/python3.10/dist-packages (from requests<3.0,>=2.6.0->prawcore<3,>=2.1->praw) (3.6)\n",
            "Requirement already satisfied: urllib3<3,>=1.21.1 in /usr/local/lib/python3.10/dist-packages (from requests<3.0,>=2.6.0->prawcore<3,>=2.1->praw) (2.0.7)\n",
            "Requirement already satisfied: certifi>=2017.4.17 in /usr/local/lib/python3.10/dist-packages (from requests<3.0,>=2.6.0->prawcore<3,>=2.1->praw) (2024.2.2)\n",
            "Installing collected packages: update-checker, prawcore, praw\n",
            "Successfully installed praw-7.7.1 prawcore-2.4.0 update-checker-0.18.0\n"
          ]
        }
      ],
      "source": [
        "!pip install praw"
      ]
    },
    {
      "cell_type": "code",
      "source": [
        "import praw"
      ],
      "metadata": {
        "id": "Q5g5DdjyBwlX"
      },
      "execution_count": null,
      "outputs": []
    },
    {
      "cell_type": "markdown",
      "source": [
        "Go to reddit website and create an app\n",
        "https://www.reddit.com/prefs/apps"
      ],
      "metadata": {
        "id": "k44n2SRit36U"
      }
    },
    {
      "cell_type": "code",
      "source": [
        "client_id = open(\"/content/clientid.txt\").read()\n",
        "client_service = open(\"/content/secret.txt\").read()\n",
        "password = open(\"/content/PASSWORD21.TXT\").read()\n",
        "user_agent = open(\"/content/Testapp.txt\").read()\n",
        "username = open(\"/content/username.txt\").read()"
      ],
      "metadata": {
        "id": "XYwfzG54B4Cw"
      },
      "execution_count": null,
      "outputs": []
    },
    {
      "cell_type": "code",
      "source": [
        "# https://praw.readthedocs.io/en/stable/getting_started/multiple_instances.html\n",
        "reddit = praw.Reddit(\n",
        "    client_id=client_id,\n",
        "    client_secret= client_service,\n",
        "    password = password,\n",
        "    user_agent = user_agent,\n",
        "    username = username,\n",
        "    check_for_async=False\n",
        ")"
      ],
      "metadata": {
        "id": "ZbEFT1NRB1W9"
      },
      "execution_count": null,
      "outputs": []
    },
    {
      "cell_type": "code",
      "source": [
        "\"python:my_reddit_script:v1.0 (by /u/Euphoric_cre2)\""
      ],
      "metadata": {
        "colab": {
          "base_uri": "https://localhost:8080/",
          "height": 35
        },
        "id": "a_H-69EvPIV1",
        "outputId": "b9ae26f2-c311-4517-ff46-627815e88da6"
      },
      "execution_count": null,
      "outputs": [
        {
          "output_type": "execute_result",
          "data": {
            "text/plain": [
              "'python:my_reddit_script:v1.0 (by /u/Euphoric_cre2)'"
            ],
            "application/vnd.google.colaboratory.intrinsic+json": {
              "type": "string"
            }
          },
          "metadata": {},
          "execution_count": 5
        }
      ]
    },
    {
      "cell_type": "code",
      "source": [
        "reddit.user.me()"
      ],
      "metadata": {
        "colab": {
          "base_uri": "https://localhost:8080/"
        },
        "id": "YXgH-WMwLh3e",
        "outputId": "3a5375ea-fb69-49e3-de02-65eb859ab0b3"
      },
      "execution_count": null,
      "outputs": [
        {
          "output_type": "execute_result",
          "data": {
            "text/plain": [
              "Redditor(name='Euphoric_cre2')"
            ]
          },
          "metadata": {},
          "execution_count": 6
        }
      ]
    },
    {
      "cell_type": "code",
      "source": [
        "# getting data from Reddit\n",
        "#subreddit = reddit.subreddit(\"learnpython\")\n",
        "#for submission in subreddit.hot(limit = 5):\n",
        "  #print(submission.title)"
      ],
      "metadata": {
        "id": "F_WTz5NliZBL"
      },
      "execution_count": null,
      "outputs": []
    },
    {
      "cell_type": "code",
      "source": [
        "subreddit = reddit.subreddit(\"datascience\")\n",
        "for submission in subreddit.hot(limit = 5):\n",
        "\n",
        "  print(submission.title)"
      ],
      "metadata": {
        "colab": {
          "base_uri": "https://localhost:8080/"
        },
        "id": "HESNlFDUidfy",
        "outputId": "6f6da275-4bf5-4882-9ef9-89fbb0d4d669"
      },
      "execution_count": null,
      "outputs": [
        {
          "output_type": "stream",
          "name": "stdout",
          "text": [
            "Weekly Entering & Transitioning - Thread 04 Mar, 2024 - 11 Mar, 2024\n",
            "Would a FAANG company just use a t-test for A/B Testing?\n",
            "What sort of extra activities/events do data scientists do?\n",
            "Looking for EU/UK/Scandinavian-based Kaggle team mates\n",
            "Non-monotonic survival approaches?!\n"
          ]
        }
      ]
    },
    {
      "cell_type": "code",
      "source": [
        "# Do something with the data\n",
        "subreddit = reddit.subreddit(\"cryptocurrency\")\n",
        "for submission in subreddit.hot(limit = 5):\n",
        "  if not submission.stickied:\n",
        "    print(f\"Title: {submission.title}\")\n",
        "    print(f\"Score: {submission.score}\")\n",
        "    print(\"--------------\")"
      ],
      "metadata": {
        "colab": {
          "base_uri": "https://localhost:8080/"
        },
        "id": "33dyFUoaifoE",
        "outputId": "6d239ab3-f95e-4690-b3bb-63f223b56942"
      },
      "execution_count": null,
      "outputs": [
        {
          "output_type": "stream",
          "name": "stdout",
          "text": [
            "Title: Bitcoin price breaks $69,000\n",
            "Score: 849\n",
            "--------------\n",
            "Title: Bitcoin Soars to New All-Time High Above $69K\n",
            "Score: 445\n",
            "--------------\n",
            "Title: Ethereum finally breaks 3800$ as it overtakes Mastercard in valuation\n",
            "Score: 111\n",
            "--------------\n"
          ]
        }
      ]
    },
    {
      "cell_type": "markdown",
      "source": [
        "My example"
      ],
      "metadata": {
        "id": "xc6nT4Pv11fB"
      }
    },
    {
      "cell_type": "code",
      "source": [
        "\n",
        "# getting data from Reddit\n",
        "subreddit = reddit.subreddit(\"makeup\")\n",
        "for submission in subreddit.hot(limit = 5):\n",
        "  print(submission.title)\n",
        ""
      ],
      "metadata": {
        "colab": {
          "base_uri": "https://localhost:8080/"
        },
        "id": "n-WK1Hwr1VLT",
        "outputId": "6dfaf9f8-7579-49e9-df25-93f95e8dd394"
      },
      "execution_count": 22,
      "outputs": [
        {
          "output_type": "stream",
          "name": "stdout",
          "text": [
            "r/Makeup Daily Simple QnA\n",
            "What's a makeup/beauty hack that has SERIOUSLY changed your routine?\n",
            "Sunset Makeup is a scam!!\n",
            "New to Makeup\n",
            "Drop your fav CC Creams \n"
          ]
        }
      ]
    },
    {
      "cell_type": "code",
      "source": [
        "subreddit = reddit.subreddit(\"makeover\")\n",
        "for submission in subreddit.hot(limit = 50):\n",
        "  print(submission.title)\n",
        ""
      ],
      "metadata": {
        "colab": {
          "base_uri": "https://localhost:8080/"
        },
        "id": "HDhLd5lo1k-J",
        "outputId": "d0c3b402-ae27-43b2-e1be-63a1bc7679d9"
      },
      "execution_count": 23,
      "outputs": [
        {
          "output_type": "stream",
          "name": "stdout",
          "text": [
            "I’m currently 29. I was wondering if you guys had any tips or suggestions for me to improve? Thanks so much :)\n",
            "Hello- hello! Looking for makeover tips for my girl!!\n",
            "Makeover tips!\n",
            "He loves my styling\n",
            "Makeover for a 43 yo guy.\n",
            "Make my make up better.\n",
            "Major TV Network seeking duos for a new makeover show!\n",
            "Engagement Makeup\n",
            "I'm cutting my hair tomorrow and need tips\n",
            "In need of a change\n",
            "Venus Makeover Your beauty is our duty\n",
            "Hey can you guys give me make over tips? I recently broke off a situationship and I walked away one of my closest friends of 3 years I just feel any tips you guys have will help 🥹 I’m currently 28!\n",
            "ummer makeover fashon Are she succeed?\n",
            "Can I have help with a complete makeover please\n",
            "What colors to use on face to not look like a clown? I always look like a 5 year old put in makeup, so I go natural, but would like to be made up occasionally. TYIA\n",
            "Winter Apartment Makeover ❄️ *aesthetic*\n",
            "my inner femininity\n",
            "Doesn’t seem like a serious sub 😑\n",
            "Unbelievable Makeover | Makeover transformation | Time Machine Salon Academy\n",
            "Daughter Made Me Look Like Her (Mommy Makeover)\n",
            "Makeover ideas\n",
            "Ugh I hate my face 😐\n",
            "Hii what else should I do to improve how I look? I was thinking abt bleaching my hair this color\n",
            "Hey guys I just wanted some help to look less idk plain on my face 😭 I know my outfit is ass but I just put anything on last minute\n",
            "Why is it \"ugly\" to be able to see?\n",
            "The new me\n",
            "Just had a Complete make over. What do you think.\n",
            "Best Bridal Makeup Artist in Delhi\n",
            "Make-over tips pls\n",
            "Makeup Artist For Wedding is important for a successful party - Makeup Artist in Delhi\n",
            "Haven’t been feeling great lately.. any makeover ideas?\n",
            "Hi there, I've been struggling with my image for a long time, now that I'm entering college I was wondering if you could help me with makeover ideas, I've started growing my hair since the beginning of the pandemic so it's here to stay\n",
            "Hair\n",
            "Got a makeover\n",
            "Went through a terrible breakup, and I need makeover ideas!\n",
            "Disband\n",
            "Makeover hair or facial first?\n",
            "I found this game called project makeover\n",
            "**Gartenfreunde.tv** Big pond makeover! Watch the process !\n",
            "SHAVING MY HEAD FOR THE FIRST TIME!!\n",
            "I WAS BALDING, SO I DID THIS!!!!!\n",
            "Makeover Ideas\n",
            "In need of a makeover\n",
            "Help me out guys!\n",
            "This is a crazy makeover... and she is not even a makeup pro.\n",
            "Enter To Win Makeover Consultation\n",
            "IF YOU WANT A THROWBACK TO THE 2000s GO WATCH OUR MAKEOVER\n",
            "Making Donald Trump Look Good\n",
            "@makeover\n",
            "My son Daunte give his dad a make over for dance night\n"
          ]
        }
      ]
    },
    {
      "cell_type": "code",
      "source": [
        "# Post new submissions\n",
        "# Respond to comments\n",
        "# Automate tasks"
      ],
      "metadata": {
        "id": "pqY41Ezhijxj"
      },
      "execution_count": null,
      "outputs": []
    },
    {
      "cell_type": "markdown",
      "source": [
        "## Posting new submission"
      ],
      "metadata": {
        "id": "6cLLcd6wuAZc"
      }
    },
    {
      "cell_type": "code",
      "source": [
        "reddit.subreddit(\"test\").submit(title = \"Lets talk about the AI photograhy.\",\n",
        "                                selftext = \"Hello everyone i will be post about the AI photography\"\n",
        "                                )"
      ],
      "metadata": {
        "colab": {
          "base_uri": "https://localhost:8080/"
        },
        "id": "NaafSVuCimk4",
        "outputId": "f843c05e-7fc3-48b3-e88f-6ed1d1eca921"
      },
      "execution_count": null,
      "outputs": [
        {
          "output_type": "execute_result",
          "data": {
            "text/plain": [
              "Submission(id='1b7a5xb')"
            ]
          },
          "metadata": {},
          "execution_count": 14
        }
      ]
    },
    {
      "cell_type": "markdown",
      "source": [
        "## Comment on a known submission"
      ],
      "metadata": {
        "id": "HBxgIBw-uIXB"
      }
    },
    {
      "cell_type": "code",
      "source": [
        "# https://github.com/praw-dev/praw\n",
        "submission = reddit.submission(url=\"https://www.reddit.com/r/test/comments/1aubrij/my_first_reddit_trial/\")\n",
        "submission.reply(\"Super duper!\")"
      ],
      "metadata": {
        "colab": {
          "base_uri": "https://localhost:8080/"
        },
        "id": "mKRDBnpziwTb",
        "outputId": "9c568ee3-8c20-4915-cb3f-6ad624d5a88e"
      },
      "execution_count": null,
      "outputs": [
        {
          "output_type": "execute_result",
          "data": {
            "text/plain": [
              "Comment(id='kth42n2')"
            ]
          },
          "metadata": {},
          "execution_count": 15
        }
      ]
    },
    {
      "cell_type": "code",
      "source": [
        "# https://github.com/praw-dev/praw\n",
        "submission = reddit.submission(url=\"https://www.reddit.com/r/katrinakaif/comments/1b6w3d7/katrina_for_anant_ambanis_wedding/\")\n",
        "submission.reply(\"beautiful katrina\")"
      ],
      "metadata": {
        "colab": {
          "base_uri": "https://localhost:8080/"
        },
        "id": "Fn3Z1kuIjDyK",
        "outputId": "62928d70-676f-44c2-fb4c-d0ec91041952"
      },
      "execution_count": null,
      "outputs": [
        {
          "output_type": "execute_result",
          "data": {
            "text/plain": [
              "Comment(id='kthbynb')"
            ]
          },
          "metadata": {},
          "execution_count": 20
        }
      ]
    }
  ]
}