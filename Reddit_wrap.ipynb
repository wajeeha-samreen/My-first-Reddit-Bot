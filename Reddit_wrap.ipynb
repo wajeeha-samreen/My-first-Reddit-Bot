{
  "nbformat": 4,
  "nbformat_minor": 0,
  "metadata": {
    "colab": {
      "provenance": [],
      "authorship_tag": "ABX9TyM172RM+z+Jq2lXhHCDuO9R"
    },
    "kernelspec": {
      "name": "python3",
      "display_name": "Python 3"
    },
    "language_info": {
      "name": "python"
    }
  },
  "cells": [
    {
      "cell_type": "markdown",
      "source": [
        "# Redditwrap"
      ],
      "metadata": {
        "id": "gvIqEpMqykqg"
      }
    },
    {
      "cell_type": "markdown",
      "source": [
        "`https://github.com/Pyprohly/redditwarp`"
      ],
      "metadata": {
        "id": "XT9vlit5ypcc"
      }
    },
    {
      "cell_type": "code",
      "execution_count": 11,
      "metadata": {
        "colab": {
          "base_uri": "https://localhost:8080/"
        },
        "id": "hhTMVja6x3vy",
        "outputId": "da4db559-aaa5-4e51-f028-393f78c29d5d"
      },
      "outputs": [
        {
          "output_type": "stream",
          "name": "stdout",
          "text": [
            "Requirement already satisfied: redditwarp in /usr/local/lib/python3.10/dist-packages (1.2.0)\n"
          ]
        }
      ],
      "source": [
        "pip install -U redditwarp"
      ]
    },
    {
      "cell_type": "code",
      "source": [
        "import redditwarp.SYNC\n",
        "\n",
        "client = redditwarp.SYNC.Client()"
      ],
      "metadata": {
        "id": "IlOYV0rry3GI"
      },
      "execution_count": 12,
      "outputs": []
    },
    {
      "cell_type": "code",
      "source": [
        "# Display the first 5 submissions on the Reddit frontpage.\n",
        "it = client.p.front.pull.hot(5)\n",
        "l = list(it)\n",
        "for subm in l:\n",
        "    print(\"r/{0.subreddit.name} | {0.id36}+ ^{0.score} | {0.title!r:.80}\".format(subm))"
      ],
      "metadata": {
        "colab": {
          "base_uri": "https://localhost:8080/"
        },
        "id": "S33QSQo2y8CH",
        "outputId": "e5c10b2f-0244-46c5-a304-b77ec3c7e05c"
      },
      "execution_count": 13,
      "outputs": [
        {
          "output_type": "stream",
          "name": "stdout",
          "text": [
            "r/AskReddit | 1b785lz+ ^2095 | 'What are you doing since Facebook is down?'\n",
            "r/Damnthatsinteresting | 1b764uw+ ^39040 | 'The Canadian Naval Diving Academy celebrates graduation by taking their class p\n",
            "r/MurderedByWords | 1b76ka2+ ^24237 | 'Good old Charlie'\n",
            "r/pics | 1b780fk+ ^14273 | 'Mark Zuckerberg and Priscilla Chan at the wedding of Anant Ambani, son of the r\n",
            "r/Weird | 1b6yh4g+ ^17152 | 'I let an old coworker stay with me when he went homeless. Ended up being extrem\n"
          ]
        }
      ]
    },
    {
      "cell_type": "code",
      "source": [
        "# How many subscribers does r/Python have?\n",
        "subr = client.p.subreddit.fetch_by_name('Python')\n",
        "print(subr.subscriber_count)"
      ],
      "metadata": {
        "colab": {
          "base_uri": "https://localhost:8080/"
        },
        "id": "lC2YkKIfy_l9",
        "outputId": "631373e4-293b-458c-c61b-30fe654fdfa2"
      },
      "execution_count": 14,
      "outputs": [
        {
          "output_type": "stream",
          "name": "stdout",
          "text": [
            "1212891\n"
          ]
        }
      ]
    },
    {
      "cell_type": "code",
      "source": [
        "name = 'Euphoric_cre2'"
      ],
      "metadata": {
        "id": "p7ow3CxtzDwG"
      },
      "execution_count": 21,
      "outputs": []
    },
    {
      "cell_type": "code",
      "source": [
        "# How many subscribers does r/Python have?\n",
        "subr = client.p.subreddit.fetch_by_name('makeup')\n",
        "print(subr.subscriber_count)"
      ],
      "metadata": {
        "colab": {
          "base_uri": "https://localhost:8080/"
        },
        "id": "bL3Ss8lQzLSk",
        "outputId": "e7d47e1b-8480-4585-ca9d-c1ee313bc067"
      },
      "execution_count": 25,
      "outputs": [
        {
          "output_type": "stream",
          "name": "stdout",
          "text": [
            "1716366\n"
          ]
        }
      ]
    },
    {
      "cell_type": "code",
      "source": [
        "import os\n",
        "\n",
        "from redditwarp.dark.SYNC import Client as DarkClient\n",
        "from redditwarp.http.misc.apply_params_and_headers_SYNC import ApplyHeaders\n",
        "\n",
        "username = os.environ('/content/username.txt','r')\n",
        "password = os.environ('/content/pass.txt','r')\n",
        "\n",
        "dark_client = DarkClient()\n",
        "\n",
        "with dark_client.http.having_additional_middleware(lambda h: ApplyHeaders(h, {'asdf': '1234'})):\n",
        "    dark_client.p.login.do_android_mobile_login(username, password)\n",
        "\n",
        "sb_token, _expires = dark_client.p.get_sendbird_access_token()\n",
        "print(sb_token)"
      ],
      "metadata": {
        "colab": {
          "base_uri": "https://localhost:8080/",
          "height": 211
        },
        "id": "v58kNHAEzPDK",
        "outputId": "b3c9aee9-4f07-4332-dbe2-4e89b04bb81e"
      },
      "execution_count": 43,
      "outputs": [
        {
          "output_type": "error",
          "ename": "TypeError",
          "evalue": "'_Environ' object is not callable",
          "traceback": [
            "\u001b[0;31m---------------------------------------------------------------------------\u001b[0m",
            "\u001b[0;31mTypeError\u001b[0m                                 Traceback (most recent call last)",
            "\u001b[0;32m<ipython-input-43-4071b9e53c9f>\u001b[0m in \u001b[0;36m<cell line: 6>\u001b[0;34m()\u001b[0m\n\u001b[1;32m      4\u001b[0m \u001b[0;32mfrom\u001b[0m \u001b[0mredditwarp\u001b[0m\u001b[0;34m.\u001b[0m\u001b[0mhttp\u001b[0m\u001b[0;34m.\u001b[0m\u001b[0mmisc\u001b[0m\u001b[0;34m.\u001b[0m\u001b[0mapply_params_and_headers_SYNC\u001b[0m \u001b[0;32mimport\u001b[0m \u001b[0mApplyHeaders\u001b[0m\u001b[0;34m\u001b[0m\u001b[0;34m\u001b[0m\u001b[0m\n\u001b[1;32m      5\u001b[0m \u001b[0;34m\u001b[0m\u001b[0m\n\u001b[0;32m----> 6\u001b[0;31m \u001b[0musername\u001b[0m \u001b[0;34m=\u001b[0m \u001b[0mos\u001b[0m\u001b[0;34m.\u001b[0m\u001b[0menviron\u001b[0m\u001b[0;34m(\u001b[0m\u001b[0;34m'/content/username.txt'\u001b[0m\u001b[0;34m,\u001b[0m\u001b[0;34m'r'\u001b[0m\u001b[0;34m)\u001b[0m\u001b[0;34m\u001b[0m\u001b[0;34m\u001b[0m\u001b[0m\n\u001b[0m\u001b[1;32m      7\u001b[0m \u001b[0mpassword\u001b[0m \u001b[0;34m=\u001b[0m \u001b[0mos\u001b[0m\u001b[0;34m.\u001b[0m\u001b[0menviron\u001b[0m\u001b[0;34m(\u001b[0m\u001b[0;34m'/content/pass.txt'\u001b[0m\u001b[0;34m,\u001b[0m\u001b[0;34m'r'\u001b[0m\u001b[0;34m)\u001b[0m\u001b[0;34m\u001b[0m\u001b[0;34m\u001b[0m\u001b[0m\n\u001b[1;32m      8\u001b[0m \u001b[0;34m\u001b[0m\u001b[0m\n",
            "\u001b[0;31mTypeError\u001b[0m: '_Environ' object is not callable"
          ]
        }
      ]
    },
    {
      "cell_type": "code",
      "source": [
        "import os\n",
        "from redditwarp.dark.SYNC import Client as DarkClient\n",
        "from redditwarp.http.misc.apply_params_and_headers_SYNC import ApplyHeaders\n",
        "\n",
        "# Retrieving Reddit credentials from environment variables\n",
        "# Read username from the file\n",
        "with open('/content/username.txt', 'r') as file:\n",
        "    username = file.read().strip()\n",
        "\n",
        "# Read password from the file\n",
        "with open('/content/pass.txt', 'r') as file:\n",
        "    password = file.read().strip()\n",
        "\n",
        "# Initialize the DarkClient\n",
        "dark_client = DarkClient()\n",
        "\n",
        "# Apply headers using ApplyHeaders middleware\n",
        "with dark_client.http.having_additional_middleware(lambda h: ApplyHeaders(h, {'Header-Name': 'Header-Value'})):\n",
        "    # Perform Android mobile login\n",
        "    dark_client.p.login.do_android_mobile_login(username, password)\n",
        "\n",
        "\n"
      ],
      "metadata": {
        "id": "gQn9FzZ29n-D"
      },
      "execution_count": 39,
      "outputs": []
    }
  ]
}